{
 "cells": [
  {
   "cell_type": "code",
   "execution_count": 5,
   "id": "6d64a17f",
   "metadata": {},
   "outputs": [
    {
     "name": "stdout",
     "output_type": "stream",
     "text": [
      "Collecting streamlit_jupyter\n",
      "  Downloading streamlit_jupyter-0.2.1-py3-none-any.whl (13 kB)\n",
      "Collecting stqdm\n",
      "  Downloading stqdm-0.0.5-py3-none-any.whl (11 kB)\n",
      "Collecting ipywidgets==7.7.2\n",
      "  Downloading ipywidgets-7.7.2-py2.py3-none-any.whl (123 kB)\n",
      "\u001b[2K     \u001b[90m━━━━━━━━━━━━━━━━━━━━━━━━━━━━━━━━━━━━━\u001b[0m \u001b[32m123.4/123.4 kB\u001b[0m \u001b[31m937.6 kB/s\u001b[0m eta \u001b[36m0:00:00\u001b[0ma \u001b[36m0:00:01\u001b[0m\n",
      "\u001b[?25hCollecting tqdm\n",
      "  Downloading tqdm-4.65.0-py3-none-any.whl (77 kB)\n",
      "\u001b[2K     \u001b[90m━━━━━━━━━━━━━━━━━━━━━━━━━━━━━━━━━━━━━━━━\u001b[0m \u001b[32m77.1/77.1 kB\u001b[0m \u001b[31m3.7 MB/s\u001b[0m eta \u001b[36m0:00:00\u001b[0m\n",
      "\u001b[?25hRequirement already satisfied: streamlit>=1.19 in /root/anaconda3/envs/min_ds-env/lib/python3.8/site-packages (from streamlit_jupyter) (1.22.0)\n",
      "Requirement already satisfied: jupyter in /root/anaconda3/envs/min_ds-env/lib/python3.8/site-packages (from streamlit_jupyter) (1.0.0)\n",
      "Collecting tabulate\n",
      "  Downloading tabulate-0.9.0-py3-none-any.whl (35 kB)\n",
      "Collecting fastcore\n",
      "  Downloading fastcore-1.5.29-py3-none-any.whl (67 kB)\n",
      "\u001b[2K     \u001b[90m━━━━━━━━━━━━━━━━━━━━━━━━━━━━━━━━━━━━━━━━\u001b[0m \u001b[32m67.6/67.6 kB\u001b[0m \u001b[31m7.1 MB/s\u001b[0m eta \u001b[36m0:00:00\u001b[0m\n",
      "\u001b[?25hRequirement already satisfied: ipykernel>=4.5.1 in /root/anaconda3/envs/min_ds-env/lib/python3.8/site-packages (from ipywidgets==7.7.2->streamlit_jupyter) (6.19.3)\n",
      "Requirement already satisfied: ipython-genutils~=0.2.0 in /root/anaconda3/envs/min_ds-env/lib/python3.8/site-packages (from ipywidgets==7.7.2->streamlit_jupyter) (0.2.0)\n",
      "Collecting widgetsnbextension~=3.6.0\n",
      "  Downloading widgetsnbextension-3.6.4-py2.py3-none-any.whl (1.6 MB)\n",
      "\u001b[2K     \u001b[90m━━━━━━━━━━━━━━━━━━━━━━━━━━━━━━━━━━━━━━━━\u001b[0m \u001b[32m1.6/1.6 MB\u001b[0m \u001b[31m4.9 MB/s\u001b[0m eta \u001b[36m0:00:00\u001b[0ma \u001b[36m0:00:01\u001b[0m\n",
      "\u001b[?25hCollecting jupyterlab-widgets<3,>=1.0.0\n",
      "  Downloading jupyterlab_widgets-1.1.4-py3-none-any.whl (246 kB)\n",
      "\u001b[2K     \u001b[90m━━━━━━━━━━━━━━━━━━━━━━━━━━━━━━━━━━━━━━━\u001b[0m \u001b[32m246.1/246.1 kB\u001b[0m \u001b[31m5.5 MB/s\u001b[0m eta \u001b[36m0:00:00\u001b[0m00:01\u001b[0m\n",
      "\u001b[?25hRequirement already satisfied: ipython>=4.0.0 in /root/anaconda3/envs/min_ds-env/lib/python3.8/site-packages (from ipywidgets==7.7.2->streamlit_jupyter) (8.7.0)\n",
      "Requirement already satisfied: traitlets>=4.3.1 in /root/anaconda3/envs/min_ds-env/lib/python3.8/site-packages (from ipywidgets==7.7.2->streamlit_jupyter) (5.8.0)\n",
      "Requirement already satisfied: click>=7.0 in /root/anaconda3/envs/min_ds-env/lib/python3.8/site-packages (from streamlit>=1.19->streamlit_jupyter) (8.1.3)\n",
      "Requirement already satisfied: gitpython!=3.1.19 in /root/anaconda3/envs/min_ds-env/lib/python3.8/site-packages (from streamlit>=1.19->streamlit_jupyter) (3.1.29)\n",
      "Requirement already satisfied: toml in /root/anaconda3/envs/min_ds-env/lib/python3.8/site-packages (from streamlit>=1.19->streamlit_jupyter) (0.10.2)\n",
      "Requirement already satisfied: python-dateutil in /root/anaconda3/envs/min_ds-env/lib/python3.8/site-packages (from streamlit>=1.19->streamlit_jupyter) (2.8.2)\n",
      "Requirement already satisfied: pympler>=0.9 in /root/anaconda3/envs/min_ds-env/lib/python3.8/site-packages (from streamlit>=1.19->streamlit_jupyter) (1.0.1)\n",
      "Requirement already satisfied: numpy in /root/anaconda3/envs/min_ds-env/lib/python3.8/site-packages (from streamlit>=1.19->streamlit_jupyter) (1.20.2)\n",
      "Requirement already satisfied: pillow>=6.2.0 in /root/anaconda3/envs/min_ds-env/lib/python3.8/site-packages (from streamlit>=1.19->streamlit_jupyter) (9.2.0)\n",
      "Requirement already satisfied: typing-extensions>=3.10.0.0 in /root/anaconda3/envs/min_ds-env/lib/python3.8/site-packages (from streamlit>=1.19->streamlit_jupyter) (4.4.0)\n",
      "Requirement already satisfied: requests>=2.4 in /root/anaconda3/envs/min_ds-env/lib/python3.8/site-packages (from streamlit>=1.19->streamlit_jupyter) (2.25.1)\n",
      "Requirement already satisfied: watchdog in /root/anaconda3/envs/min_ds-env/lib/python3.8/site-packages (from streamlit>=1.19->streamlit_jupyter) (3.0.0)\n",
      "Requirement already satisfied: protobuf<4,>=3.12 in /root/anaconda3/envs/min_ds-env/lib/python3.8/site-packages (from streamlit>=1.19->streamlit_jupyter) (3.20.3)\n",
      "Requirement already satisfied: tzlocal>=1.1 in /root/anaconda3/envs/min_ds-env/lib/python3.8/site-packages (from streamlit>=1.19->streamlit_jupyter) (5.0.1)\n",
      "Requirement already satisfied: pydeck>=0.1.dev5 in /root/anaconda3/envs/min_ds-env/lib/python3.8/site-packages (from streamlit>=1.19->streamlit_jupyter) (0.8.1b0)\n",
      "Requirement already satisfied: pandas<3,>=0.25 in /root/anaconda3/envs/min_ds-env/lib/python3.8/site-packages (from streamlit>=1.19->streamlit_jupyter) (1.2.4)\n",
      "Requirement already satisfied: cachetools>=4.0 in /root/anaconda3/envs/min_ds-env/lib/python3.8/site-packages (from streamlit>=1.19->streamlit_jupyter) (5.3.0)\n",
      "Requirement already satisfied: importlib-metadata>=1.4 in /root/anaconda3/envs/min_ds-env/lib/python3.8/site-packages (from streamlit>=1.19->streamlit_jupyter) (5.2.0)\n",
      "Requirement already satisfied: tenacity<9,>=8.0.0 in /root/anaconda3/envs/min_ds-env/lib/python3.8/site-packages (from streamlit>=1.19->streamlit_jupyter) (8.2.2)\n",
      "Requirement already satisfied: blinker>=1.0.0 in /root/anaconda3/envs/min_ds-env/lib/python3.8/site-packages (from streamlit>=1.19->streamlit_jupyter) (1.6.2)\n",
      "Requirement already satisfied: rich>=10.11.0 in /root/anaconda3/envs/min_ds-env/lib/python3.8/site-packages (from streamlit>=1.19->streamlit_jupyter) (13.3.5)\n",
      "Requirement already satisfied: altair<5,>=3.2.0 in /root/anaconda3/envs/min_ds-env/lib/python3.8/site-packages (from streamlit>=1.19->streamlit_jupyter) (4.2.2)\n",
      "Requirement already satisfied: tornado>=6.0.3 in /root/anaconda3/envs/min_ds-env/lib/python3.8/site-packages (from streamlit>=1.19->streamlit_jupyter) (6.2)\n",
      "Requirement already satisfied: pyarrow>=4.0 in /root/anaconda3/envs/min_ds-env/lib/python3.8/site-packages (from streamlit>=1.19->streamlit_jupyter) (12.0.0)\n",
      "Requirement already satisfied: validators>=0.2 in /root/anaconda3/envs/min_ds-env/lib/python3.8/site-packages (from streamlit>=1.19->streamlit_jupyter) (0.20.0)\n",
      "Requirement already satisfied: packaging>=14.1 in /root/anaconda3/envs/min_ds-env/lib/python3.8/site-packages (from streamlit>=1.19->streamlit_jupyter) (22.0)\n",
      "Requirement already satisfied: pip in /root/anaconda3/envs/min_ds-env/lib/python3.8/site-packages (from fastcore->streamlit_jupyter) (22.3.1)\n",
      "Requirement already satisfied: jupyter-console in /root/anaconda3/envs/min_ds-env/lib/python3.8/site-packages (from jupyter->streamlit_jupyter) (6.6.3)\n",
      "Requirement already satisfied: qtconsole in /root/anaconda3/envs/min_ds-env/lib/python3.8/site-packages (from jupyter->streamlit_jupyter) (5.4.2)\n",
      "Requirement already satisfied: nbconvert in /root/anaconda3/envs/min_ds-env/lib/python3.8/site-packages (from jupyter->streamlit_jupyter) (7.2.7)\n",
      "Requirement already satisfied: notebook in /root/anaconda3/envs/min_ds-env/lib/python3.8/site-packages (from jupyter->streamlit_jupyter) (6.5.2)\n",
      "Requirement already satisfied: entrypoints in /root/anaconda3/envs/min_ds-env/lib/python3.8/site-packages (from altair<5,>=3.2.0->streamlit>=1.19->streamlit_jupyter) (0.4)\n",
      "Requirement already satisfied: jinja2 in /root/anaconda3/envs/min_ds-env/lib/python3.8/site-packages (from altair<5,>=3.2.0->streamlit>=1.19->streamlit_jupyter) (3.1.2)\n",
      "Requirement already satisfied: jsonschema>=3.0 in /root/anaconda3/envs/min_ds-env/lib/python3.8/site-packages (from altair<5,>=3.2.0->streamlit>=1.19->streamlit_jupyter) (4.17.3)\n",
      "Requirement already satisfied: toolz in /root/anaconda3/envs/min_ds-env/lib/python3.8/site-packages (from altair<5,>=3.2.0->streamlit>=1.19->streamlit_jupyter) (0.12.0)\n",
      "Requirement already satisfied: gitdb<5,>=4.0.1 in /root/anaconda3/envs/min_ds-env/lib/python3.8/site-packages (from gitpython!=3.1.19->streamlit>=1.19->streamlit_jupyter) (4.0.10)\n",
      "Requirement already satisfied: zipp>=0.5 in /root/anaconda3/envs/min_ds-env/lib/python3.8/site-packages (from importlib-metadata>=1.4->streamlit>=1.19->streamlit_jupyter) (3.11.0)\n",
      "Requirement already satisfied: nest-asyncio in /root/anaconda3/envs/min_ds-env/lib/python3.8/site-packages (from ipykernel>=4.5.1->ipywidgets==7.7.2->streamlit_jupyter) (1.5.6)\n",
      "Requirement already satisfied: psutil in /root/anaconda3/envs/min_ds-env/lib/python3.8/site-packages (from ipykernel>=4.5.1->ipywidgets==7.7.2->streamlit_jupyter) (5.9.4)\n",
      "Requirement already satisfied: comm>=0.1.1 in /root/anaconda3/envs/min_ds-env/lib/python3.8/site-packages (from ipykernel>=4.5.1->ipywidgets==7.7.2->streamlit_jupyter) (0.1.2)\n",
      "Requirement already satisfied: jupyter-client>=6.1.12 in /root/anaconda3/envs/min_ds-env/lib/python3.8/site-packages (from ipykernel>=4.5.1->ipywidgets==7.7.2->streamlit_jupyter) (7.4.8)\n",
      "Requirement already satisfied: matplotlib-inline>=0.1 in /root/anaconda3/envs/min_ds-env/lib/python3.8/site-packages (from ipykernel>=4.5.1->ipywidgets==7.7.2->streamlit_jupyter) (0.1.6)\n",
      "Requirement already satisfied: debugpy>=1.0 in /root/anaconda3/envs/min_ds-env/lib/python3.8/site-packages (from ipykernel>=4.5.1->ipywidgets==7.7.2->streamlit_jupyter) (1.6.4)\n",
      "Requirement already satisfied: pyzmq>=17 in /root/anaconda3/envs/min_ds-env/lib/python3.8/site-packages (from ipykernel>=4.5.1->ipywidgets==7.7.2->streamlit_jupyter) (24.0.1)\n"
     ]
    },
    {
     "name": "stdout",
     "output_type": "stream",
     "text": [
      "Requirement already satisfied: pickleshare in /root/anaconda3/envs/min_ds-env/lib/python3.8/site-packages (from ipython>=4.0.0->ipywidgets==7.7.2->streamlit_jupyter) (0.7.5)\n",
      "Requirement already satisfied: stack-data in /root/anaconda3/envs/min_ds-env/lib/python3.8/site-packages (from ipython>=4.0.0->ipywidgets==7.7.2->streamlit_jupyter) (0.6.2)\n",
      "Requirement already satisfied: pygments>=2.4.0 in /root/anaconda3/envs/min_ds-env/lib/python3.8/site-packages (from ipython>=4.0.0->ipywidgets==7.7.2->streamlit_jupyter) (2.13.0)\n",
      "Requirement already satisfied: backcall in /root/anaconda3/envs/min_ds-env/lib/python3.8/site-packages (from ipython>=4.0.0->ipywidgets==7.7.2->streamlit_jupyter) (0.2.0)\n",
      "Requirement already satisfied: decorator in /root/anaconda3/envs/min_ds-env/lib/python3.8/site-packages (from ipython>=4.0.0->ipywidgets==7.7.2->streamlit_jupyter) (5.1.1)\n",
      "Requirement already satisfied: pexpect>4.3 in /root/anaconda3/envs/min_ds-env/lib/python3.8/site-packages (from ipython>=4.0.0->ipywidgets==7.7.2->streamlit_jupyter) (4.8.0)\n",
      "Requirement already satisfied: prompt-toolkit<3.1.0,>=3.0.11 in /root/anaconda3/envs/min_ds-env/lib/python3.8/site-packages (from ipython>=4.0.0->ipywidgets==7.7.2->streamlit_jupyter) (3.0.36)\n",
      "Requirement already satisfied: jedi>=0.16 in /root/anaconda3/envs/min_ds-env/lib/python3.8/site-packages (from ipython>=4.0.0->ipywidgets==7.7.2->streamlit_jupyter) (0.18.2)\n",
      "Requirement already satisfied: pytz>=2017.3 in /root/anaconda3/envs/min_ds-env/lib/python3.8/site-packages (from pandas<3,>=0.25->streamlit>=1.19->streamlit_jupyter) (2022.7)\n",
      "Requirement already satisfied: six>=1.5 in /root/anaconda3/envs/min_ds-env/lib/python3.8/site-packages (from python-dateutil->streamlit>=1.19->streamlit_jupyter) (1.16.0)\n",
      "Requirement already satisfied: urllib3<1.27,>=1.21.1 in /root/anaconda3/envs/min_ds-env/lib/python3.8/site-packages (from requests>=2.4->streamlit>=1.19->streamlit_jupyter) (1.26.13)\n",
      "Requirement already satisfied: certifi>=2017.4.17 in /root/anaconda3/envs/min_ds-env/lib/python3.8/site-packages (from requests>=2.4->streamlit>=1.19->streamlit_jupyter) (2022.12.7)\n",
      "Requirement already satisfied: chardet<5,>=3.0.2 in /root/anaconda3/envs/min_ds-env/lib/python3.8/site-packages (from requests>=2.4->streamlit>=1.19->streamlit_jupyter) (4.0.0)\n",
      "Requirement already satisfied: idna<3,>=2.5 in /root/anaconda3/envs/min_ds-env/lib/python3.8/site-packages (from requests>=2.4->streamlit>=1.19->streamlit_jupyter) (2.10)\n",
      "Requirement already satisfied: markdown-it-py<3.0.0,>=2.2.0 in /root/anaconda3/envs/min_ds-env/lib/python3.8/site-packages (from rich>=10.11.0->streamlit>=1.19->streamlit_jupyter) (2.2.0)\n",
      "Requirement already satisfied: backports.zoneinfo in /root/anaconda3/envs/min_ds-env/lib/python3.8/site-packages (from tzlocal>=1.1->streamlit>=1.19->streamlit_jupyter) (0.2.1)\n",
      "Requirement already satisfied: Send2Trash>=1.8.0 in /root/anaconda3/envs/min_ds-env/lib/python3.8/site-packages (from notebook->jupyter->streamlit_jupyter) (1.8.0)\n",
      "Requirement already satisfied: nbclassic>=0.4.7 in /root/anaconda3/envs/min_ds-env/lib/python3.8/site-packages (from notebook->jupyter->streamlit_jupyter) (0.4.8)\n",
      "Requirement already satisfied: nbformat in /root/anaconda3/envs/min_ds-env/lib/python3.8/site-packages (from notebook->jupyter->streamlit_jupyter) (5.7.1)\n",
      "Requirement already satisfied: prometheus-client in /root/anaconda3/envs/min_ds-env/lib/python3.8/site-packages (from notebook->jupyter->streamlit_jupyter) (0.15.0)\n",
      "Requirement already satisfied: jupyter-core>=4.6.1 in /root/anaconda3/envs/min_ds-env/lib/python3.8/site-packages (from notebook->jupyter->streamlit_jupyter) (5.1.0)\n",
      "Requirement already satisfied: terminado>=0.8.3 in /root/anaconda3/envs/min_ds-env/lib/python3.8/site-packages (from notebook->jupyter->streamlit_jupyter) (0.17.1)\n",
      "Requirement already satisfied: argon2-cffi in /root/anaconda3/envs/min_ds-env/lib/python3.8/site-packages (from notebook->jupyter->streamlit_jupyter) (21.3.0)\n",
      "Requirement already satisfied: bleach in /root/anaconda3/envs/min_ds-env/lib/python3.8/site-packages (from nbconvert->jupyter->streamlit_jupyter) (5.0.1)\n",
      "Requirement already satisfied: beautifulsoup4 in /root/anaconda3/envs/min_ds-env/lib/python3.8/site-packages (from nbconvert->jupyter->streamlit_jupyter) (4.9.3)\n",
      "Requirement already satisfied: mistune<3,>=2.0.3 in /root/anaconda3/envs/min_ds-env/lib/python3.8/site-packages (from nbconvert->jupyter->streamlit_jupyter) (2.0.4)\n",
      "Requirement already satisfied: jupyterlab-pygments in /root/anaconda3/envs/min_ds-env/lib/python3.8/site-packages (from nbconvert->jupyter->streamlit_jupyter) (0.2.2)\n",
      "Requirement already satisfied: tinycss2 in /root/anaconda3/envs/min_ds-env/lib/python3.8/site-packages (from nbconvert->jupyter->streamlit_jupyter) (1.2.1)\n",
      "Requirement already satisfied: defusedxml in /root/anaconda3/envs/min_ds-env/lib/python3.8/site-packages (from nbconvert->jupyter->streamlit_jupyter) (0.7.1)\n",
      "Requirement already satisfied: nbclient>=0.5.0 in /root/anaconda3/envs/min_ds-env/lib/python3.8/site-packages (from nbconvert->jupyter->streamlit_jupyter) (0.7.2)\n",
      "Requirement already satisfied: pandocfilters>=1.4.1 in /root/anaconda3/envs/min_ds-env/lib/python3.8/site-packages (from nbconvert->jupyter->streamlit_jupyter) (1.5.0)\n",
      "Requirement already satisfied: markupsafe>=2.0 in /root/anaconda3/envs/min_ds-env/lib/python3.8/site-packages (from nbconvert->jupyter->streamlit_jupyter) (2.1.1)\n",
      "Requirement already satisfied: qtpy>=2.0.1 in /root/anaconda3/envs/min_ds-env/lib/python3.8/site-packages (from qtconsole->jupyter->streamlit_jupyter) (2.3.1)\n",
      "Requirement already satisfied: smmap<6,>=3.0.1 in /root/anaconda3/envs/min_ds-env/lib/python3.8/site-packages (from gitdb<5,>=4.0.1->gitpython!=3.1.19->streamlit>=1.19->streamlit_jupyter) (3.0.5)\n",
      "Requirement already satisfied: parso<0.9.0,>=0.8.0 in /root/anaconda3/envs/min_ds-env/lib/python3.8/site-packages (from jedi>=0.16->ipython>=4.0.0->ipywidgets==7.7.2->streamlit_jupyter) (0.8.3)\n",
      "Requirement already satisfied: importlib-resources>=1.4.0 in /root/anaconda3/envs/min_ds-env/lib/python3.8/site-packages (from jsonschema>=3.0->altair<5,>=3.2.0->streamlit>=1.19->streamlit_jupyter) (5.10.1)\n",
      "Requirement already satisfied: pkgutil-resolve-name>=1.3.10 in /root/anaconda3/envs/min_ds-env/lib/python3.8/site-packages (from jsonschema>=3.0->altair<5,>=3.2.0->streamlit>=1.19->streamlit_jupyter) (1.3.10)\n",
      "Requirement already satisfied: attrs>=17.4.0 in /root/anaconda3/envs/min_ds-env/lib/python3.8/site-packages (from jsonschema>=3.0->altair<5,>=3.2.0->streamlit>=1.19->streamlit_jupyter) (22.1.0)\n",
      "Requirement already satisfied: pyrsistent!=0.17.0,!=0.17.1,!=0.17.2,>=0.14.0 in /root/anaconda3/envs/min_ds-env/lib/python3.8/site-packages (from jsonschema>=3.0->altair<5,>=3.2.0->streamlit>=1.19->streamlit_jupyter) (0.19.2)\n",
      "Requirement already satisfied: platformdirs>=2.5 in /root/anaconda3/envs/min_ds-env/lib/python3.8/site-packages (from jupyter-core>=4.6.1->notebook->jupyter->streamlit_jupyter) (2.6.0)\n",
      "Requirement already satisfied: mdurl~=0.1 in /root/anaconda3/envs/min_ds-env/lib/python3.8/site-packages (from markdown-it-py<3.0.0,>=2.2.0->rich>=10.11.0->streamlit>=1.19->streamlit_jupyter) (0.1.2)\n",
      "Requirement already satisfied: jupyter-server>=1.8 in /root/anaconda3/envs/min_ds-env/lib/python3.8/site-packages (from nbclassic>=0.4.7->notebook->jupyter->streamlit_jupyter) (1.23.3)\n",
      "Requirement already satisfied: notebook-shim>=0.1.0 in /root/anaconda3/envs/min_ds-env/lib/python3.8/site-packages (from nbclassic>=0.4.7->notebook->jupyter->streamlit_jupyter) (0.2.2)\n",
      "Requirement already satisfied: fastjsonschema in /root/anaconda3/envs/min_ds-env/lib/python3.8/site-packages (from nbformat->notebook->jupyter->streamlit_jupyter) (2.16.2)\n",
      "Requirement already satisfied: ptyprocess>=0.5 in /root/anaconda3/envs/min_ds-env/lib/python3.8/site-packages (from pexpect>4.3->ipython>=4.0.0->ipywidgets==7.7.2->streamlit_jupyter) (0.7.0)\n",
      "Requirement already satisfied: wcwidth in /root/anaconda3/envs/min_ds-env/lib/python3.8/site-packages (from prompt-toolkit<3.1.0,>=3.0.11->ipython>=4.0.0->ipywidgets==7.7.2->streamlit_jupyter) (0.2.5)\n",
      "Requirement already satisfied: argon2-cffi-bindings in /root/anaconda3/envs/min_ds-env/lib/python3.8/site-packages (from argon2-cffi->notebook->jupyter->streamlit_jupyter) (21.2.0)\n",
      "Requirement already satisfied: soupsieve>1.2 in /root/anaconda3/envs/min_ds-env/lib/python3.8/site-packages (from beautifulsoup4->nbconvert->jupyter->streamlit_jupyter) (2.3.2.post1)\n"
     ]
    },
    {
     "name": "stdout",
     "output_type": "stream",
     "text": [
      "Requirement already satisfied: webencodings in /root/anaconda3/envs/min_ds-env/lib/python3.8/site-packages (from bleach->nbconvert->jupyter->streamlit_jupyter) (0.5.1)\n",
      "Requirement already satisfied: executing>=1.2.0 in /root/anaconda3/envs/min_ds-env/lib/python3.8/site-packages (from stack-data->ipython>=4.0.0->ipywidgets==7.7.2->streamlit_jupyter) (1.2.0)\n",
      "Requirement already satisfied: pure-eval in /root/anaconda3/envs/min_ds-env/lib/python3.8/site-packages (from stack-data->ipython>=4.0.0->ipywidgets==7.7.2->streamlit_jupyter) (0.2.2)\n",
      "Requirement already satisfied: asttokens>=2.1.0 in /root/anaconda3/envs/min_ds-env/lib/python3.8/site-packages (from stack-data->ipython>=4.0.0->ipywidgets==7.7.2->streamlit_jupyter) (2.2.1)\n",
      "Requirement already satisfied: websocket-client in /root/anaconda3/envs/min_ds-env/lib/python3.8/site-packages (from jupyter-server>=1.8->nbclassic>=0.4.7->notebook->jupyter->streamlit_jupyter) (1.4.2)\n",
      "Requirement already satisfied: anyio<4,>=3.1.0 in /root/anaconda3/envs/min_ds-env/lib/python3.8/site-packages (from jupyter-server>=1.8->nbclassic>=0.4.7->notebook->jupyter->streamlit_jupyter) (3.6.2)\n",
      "Requirement already satisfied: cffi>=1.0.1 in /root/anaconda3/envs/min_ds-env/lib/python3.8/site-packages (from argon2-cffi-bindings->argon2-cffi->notebook->jupyter->streamlit_jupyter) (1.14.6)\n",
      "Requirement already satisfied: sniffio>=1.1 in /root/anaconda3/envs/min_ds-env/lib/python3.8/site-packages (from anyio<4,>=3.1.0->jupyter-server>=1.8->nbclassic>=0.4.7->notebook->jupyter->streamlit_jupyter) (1.3.0)\n",
      "Requirement already satisfied: pycparser in /root/anaconda3/envs/min_ds-env/lib/python3.8/site-packages (from cffi>=1.0.1->argon2-cffi-bindings->argon2-cffi->notebook->jupyter->streamlit_jupyter) (2.21)\n",
      "Installing collected packages: tqdm, tabulate, jupyterlab-widgets, fastcore, stqdm, widgetsnbextension, ipywidgets, streamlit_jupyter\n",
      "  Attempting uninstall: jupyterlab-widgets\n",
      "    Found existing installation: jupyterlab-widgets 3.0.7\n",
      "    Uninstalling jupyterlab-widgets-3.0.7:\n",
      "      Successfully uninstalled jupyterlab-widgets-3.0.7\n",
      "  Attempting uninstall: widgetsnbextension\n",
      "    Found existing installation: widgetsnbextension 4.0.7\n",
      "    Uninstalling widgetsnbextension-4.0.7:\n",
      "      Successfully uninstalled widgetsnbextension-4.0.7\n",
      "  Attempting uninstall: ipywidgets\n",
      "    Found existing installation: ipywidgets 8.0.6\n",
      "    Uninstalling ipywidgets-8.0.6:\n",
      "      Successfully uninstalled ipywidgets-8.0.6\n",
      "Successfully installed fastcore-1.5.29 ipywidgets-7.7.2 jupyterlab-widgets-1.1.4 stqdm-0.0.5 streamlit_jupyter-0.2.1 tabulate-0.9.0 tqdm-4.65.0 widgetsnbextension-3.6.4\n",
      "\u001b[33mWARNING: Running pip as the 'root' user can result in broken permissions and conflicting behaviour with the system package manager. It is recommended to use a virtual environment instead: https://pip.pypa.io/warnings/venv\u001b[0m\u001b[33m\n",
      "\u001b[0m"
     ]
    }
   ],
   "source": [
    "# !pip install streamlit\n",
    "# !pip install streamlit_jupyter"
   ]
  },
  {
   "cell_type": "code",
   "execution_count": 10,
   "id": "0c70f356",
   "metadata": {},
   "outputs": [],
   "source": [
    "import streamlit as st\n",
    "\n",
    "from streamlit_jupyter import StreamlitPatcher, tqdm\n",
    "\n",
    "import pandas as pd\n",
    "\n",
    "StreamlitPatcher().jupyter()  # register streamlit with jupyter-compatible wrappers"
   ]
  },
  {
   "cell_type": "code",
   "execution_count": 11,
   "id": "90a1f972",
   "metadata": {},
   "outputs": [],
   "source": [
    "data = pd.read_csv(\"datasets/data_preprocess.csv\")"
   ]
  },
  {
   "cell_type": "code",
   "execution_count": 8,
   "id": "33391c2d",
   "metadata": {},
   "outputs": [
    {
     "data": {
      "text/markdown": [
       "# Title"
      ],
      "text/plain": [
       "<IPython.core.display.Markdown object>"
      ]
     },
     "metadata": {},
     "output_type": "display_data"
    }
   ],
   "source": [
    "st.title(\"Title\")"
   ]
  },
  {
   "cell_type": "code",
   "execution_count": 9,
   "id": "8401fe8c",
   "metadata": {},
   "outputs": [
    {
     "data": {
      "text/markdown": [
       "\n",
       "Thử markdown\n"
      ],
      "text/plain": [
       "<IPython.core.display.Markdown object>"
      ]
     },
     "metadata": {},
     "output_type": "display_data"
    }
   ],
   "source": [
    "st.markdown(\n",
    "\"\"\"\n",
    "Thử markdown\n",
    "\"\"\")"
   ]
  },
  {
   "cell_type": "code",
   "execution_count": null,
   "id": "dc1ee36d",
   "metadata": {},
   "outputs": [],
   "source": []
  }
 ],
 "metadata": {
  "kernelspec": {
   "display_name": "Python 3 (ipykernel)",
   "language": "python",
   "name": "python3"
  },
  "language_info": {
   "codemirror_mode": {
    "name": "ipython",
    "version": 3
   },
   "file_extension": ".py",
   "mimetype": "text/x-python",
   "name": "python",
   "nbconvert_exporter": "python",
   "pygments_lexer": "ipython3",
   "version": "3.8.8"
  }
 },
 "nbformat": 4,
 "nbformat_minor": 5
}
